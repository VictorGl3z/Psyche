{
 "cells": [
  {
   "cell_type": "code",
   "execution_count": 20,
   "metadata": {},
   "outputs": [
    {
     "name": "stdout",
     "output_type": "stream",
     "text": [
      "url:  http://py4e-data.dr-chuck.net/known_by_Macsen.html\n",
      "url:  http://py4e-data.dr-chuck.net/known_by_Shiraz.html\n",
      "url:  http://py4e-data.dr-chuck.net/known_by_Amieleigh.html\n",
      "url:  http://py4e-data.dr-chuck.net/known_by_Brendan.html\n",
      "url:  http://py4e-data.dr-chuck.net/known_by_Geena.html\n",
      "url:  http://py4e-data.dr-chuck.net/known_by_Jemma.html\n",
      "url:  http://py4e-data.dr-chuck.net/known_by_Morven.html\n",
      "url:  http://py4e-data.dr-chuck.net/known_by_Solomon.html\n"
     ]
    }
   ],
   "source": [
    "import urllib.request, urllib.parse, urllib.error\n",
    "from bs4 import BeautifulSoup\n",
    "import ssl\n",
    "\n",
    "ctx = ssl.create_default_context()\n",
    "ctx.check_hostname = False\n",
    "ctx.verify_mode = ssl.CERT_NONE\n",
    "\n",
    "position = int(input('Enter position: '))\n",
    "count    = int(input('Enter count: '))\n",
    "\n",
    "for i in range(count+1):\n",
    "    if i == 0:\n",
    "        url = 'http://py4e-data.dr-chuck.net/known_by_Macsen.html'     \n",
    "    else:\n",
    "        url = tags[position-1].get('href', None)\n",
    "    html = urllib.request.urlopen(url, context = ctx).read()    \n",
    "    soup = BeautifulSoup(html, 'html.parser')                   \n",
    "    tags = soup('a')\n",
    "    print('url: ', url)\n",
    "\n",
    "    "
   ]
  },
  {
   "cell_type": "code",
   "execution_count": 13,
   "metadata": {},
   "outputs": [
    {
     "name": "stdout",
     "output_type": "stream",
     "text": [
      "range(0, 4)\n"
     ]
    }
   ],
   "source": [
    "position = 4\n",
    "print(range(position))"
   ]
  }
 ],
 "metadata": {
  "kernelspec": {
   "display_name": "Python 3",
   "language": "python",
   "name": "python3"
  },
  "language_info": {
   "codemirror_mode": {
    "name": "ipython",
    "version": 3
   },
   "file_extension": ".py",
   "mimetype": "text/x-python",
   "name": "python",
   "nbconvert_exporter": "python",
   "pygments_lexer": "ipython3",
   "version": "3.11.6"
  }
 },
 "nbformat": 4,
 "nbformat_minor": 2
}
