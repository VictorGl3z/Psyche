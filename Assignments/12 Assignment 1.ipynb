{
 "cells": [
  {
   "cell_type": "code",
   "execution_count": 55,
   "metadata": {},
   "outputs": [
    {
     "name": "stdout",
     "output_type": "stream",
     "text": [
      "[100, 98, 89, 87, 85, 82, 82, 78, 75, 74, 67, 67, 67, 63, 62, 61, 59, 56, 53, 50, 46, 43, 43, 43, 42, 42, 38, 35, 34, 34, 33, 31, 28, 26, 24, 23, 23, 21, 19, 18, 17, 15, 10, 10, 9, 4, 3, 2, 2, 1]\n"
     ]
    },
    {
     "data": {
      "text/plain": [
       "2174"
      ]
     },
     "execution_count": 55,
     "metadata": {},
     "output_type": "execute_result"
    }
   ],
   "source": [
    "import urllib.request, urllib.parse, urllib.error\n",
    "from bs4 import BeautifulSoup\n",
    "import ssl\n",
    "\n",
    "ctx = ssl.create_default_context()\n",
    "ctx.check_hostname = False\n",
    "ctx.verify_mode = ssl.CERT_NONE\n",
    "\n",
    "url  = 'http://py4e-data.dr-chuck.net/comments_1918733.html'     \n",
    "html = urllib.request.urlopen(url, context = ctx).read()    \n",
    "soup = BeautifulSoup(html, 'html.parser')                   \n",
    "\n",
    "tags = soup('span')\n",
    "ls = list()\n",
    "for tag in tags:\n",
    "    ls.append(int(tag.contents[0]))\n",
    "print(ls)\n",
    "sum(ls)"
   ]
  }
 ],
 "metadata": {
  "kernelspec": {
   "display_name": "Python 3",
   "language": "python",
   "name": "python3"
  },
  "language_info": {
   "codemirror_mode": {
    "name": "ipython",
    "version": 3
   },
   "file_extension": ".py",
   "mimetype": "text/x-python",
   "name": "python",
   "nbconvert_exporter": "python",
   "pygments_lexer": "ipython3",
   "version": "3.11.6"
  }
 },
 "nbformat": 4,
 "nbformat_minor": 2
}
