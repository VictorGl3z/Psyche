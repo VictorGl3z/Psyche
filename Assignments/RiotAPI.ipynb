{
 "cells": [
  {
   "cell_type": "code",
   "execution_count": 4,
   "metadata": {},
   "outputs": [],
   "source": [
    "api_key = 'RGAPI-1b984a93-ac96-4d1c-b5fa-af55b3ffa569'\n",
    "api_url = 'https://la1.api.riotgames.com/lol/summoner/v4/summoners/by-name/Tokyo%20Raiku'\n",
    "api_url = api_url + '?api_key=' + api_key"
   ]
  },
  {
   "cell_type": "code",
   "execution_count": 6,
   "metadata": {},
   "outputs": [
    {
     "data": {
      "text/plain": [
       "{'id': 'Tg5RFfa33M0Fv8LjizHHaoUvveEkkfj8NqGTXYVzJSAzouY',\n",
       " 'accountId': 'LSwqRY5l2vmd29WEjkyWpA65x_JRiOkOiZPl6WUlV9R6OcM',\n",
       " 'puuid': 'ZSgC0JY1nlpJIAJ7S2KJ17PmrgWYDmqWwkFfRB8ZO8Fbt4ynmwmAPTjKJ1PsAs5o-8VxyAYtUTwSSA',\n",
       " 'name': 'Tokyo Raiku',\n",
       " 'profileIconId': 6334,\n",
       " 'revisionDate': 1699050424463,\n",
       " 'summonerLevel': 1087}"
      ]
     },
     "execution_count": 6,
     "metadata": {},
     "output_type": "execute_result"
    }
   ],
   "source": [
    "import requests\n",
    "\n",
    "resp = requests.get(api_url)\n",
    "resp.json()"
   ]
  }
 ],
 "metadata": {
  "kernelspec": {
   "display_name": "Python 3",
   "language": "python",
   "name": "python3"
  },
  "language_info": {
   "codemirror_mode": {
    "name": "ipython",
    "version": 3
   },
   "file_extension": ".py",
   "mimetype": "text/x-python",
   "name": "python",
   "nbconvert_exporter": "python",
   "pygments_lexer": "ipython3",
   "version": "3.11.6"
  }
 },
 "nbformat": 4,
 "nbformat_minor": 2
}
