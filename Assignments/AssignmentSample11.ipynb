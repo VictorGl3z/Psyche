{
 "cells": [
  {
   "cell_type": "code",
   "execution_count": 1,
   "metadata": {},
   "outputs": [],
   "source": [
    "import re\n",
    "sum = 0\n",
    "hand = open('RealData11.txt')\n",
    "for line in hand:\n",
    "    if len(line) > 1:\n",
    "        y = re.findall('[0-9]+',line)\n",
    "        if len(y) != 0:\n",
    "            for i in range(len(y)):\n",
    "                y[i] = int(y[i])\n",
    "                sum = sum + y[i]\n",
    "        else:\n",
    "            continue\n"
   ]
  },
  {
   "cell_type": "code",
   "execution_count": 2,
   "metadata": {},
   "outputs": [
    {
     "name": "stdout",
     "output_type": "stream",
     "text": [
      "430340\n"
     ]
    }
   ],
   "source": [
    "print(sum)"
   ]
  },
  {
   "cell_type": "code",
   "execution_count": 15,
   "metadata": {},
   "outputs": [],
   "source": [
    "ls = list()\n",
    "while True:\n",
    "    inp = input('Followers')\n",
    "    if inp != 'done':\n",
    "        ls.append(inp)\n",
    "    else:\n",
    "        break\n"
   ]
  },
  {
   "cell_type": "code",
   "execution_count": 16,
   "metadata": {},
   "outputs": [
    {
     "name": "stdout",
     "output_type": "stream",
     "text": [
      "['1236', '1248', '1276', '1317', '1348', '1439', '1460', '1508', '1553', '1578', '1604', '1630', '1661', '1662', '1691', '1723', '1730', '1730', '1743', '1771']\n"
     ]
    }
   ],
   "source": [
    "print(ls)\n"
   ]
  },
  {
   "cell_type": "code",
   "execution_count": 26,
   "metadata": {},
   "outputs": [
    {
     "name": "stdout",
     "output_type": "stream",
     "text": [
      "['1236', '1248', '1276', '1317', '1348', '1439', '1460', '1508', '1553', '1578', '1604', '1630', '1661', '1662', '1691', '1723', '1730', '1730', '1743', '1771']\n",
      "[0, 12, 28, 41, 31, 91, 21, 48, 45, 25, 26, 26, 31, 1, 29, 32, 7, 0, 13, 28]\n",
      "535\n",
      "8.560747663551401\n"
     ]
    }
   ],
   "source": [
    "sum = list()\n",
    "for i in range(len(ls)):\n",
    "    if i == 0:\n",
    "        sum.append(0)\n",
    "    else:\n",
    "        sum.append(int(ls[i]) - int(ls[i-1]))\n",
    "print(ls)\n",
    "print(sum)\n",
    "\n",
    "total = 0\n",
    "for i in range(len(sum)):\n",
    "    total = total + sum[i]\n",
    "avg = total/len(sum)\n",
    "print(total)\n",
    "\n",
    "weeks = (2000-1771)/avg\n",
    "print(weeks)"
   ]
  }
 ],
 "metadata": {
  "kernelspec": {
   "display_name": "Python 3",
   "language": "python",
   "name": "python3"
  },
  "language_info": {
   "codemirror_mode": {
    "name": "ipython",
    "version": 3
   },
   "file_extension": ".py",
   "mimetype": "text/x-python",
   "name": "python",
   "nbconvert_exporter": "python",
   "pygments_lexer": "ipython3",
   "version": "3.11.6"
  }
 },
 "nbformat": 4,
 "nbformat_minor": 2
}
