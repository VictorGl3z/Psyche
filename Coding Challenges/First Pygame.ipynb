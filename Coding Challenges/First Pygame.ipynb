{
 "cells": [
  {
   "cell_type": "code",
   "execution_count": 12,
   "metadata": {},
   "outputs": [
    {
     "ename": "SystemExit",
     "evalue": "",
     "output_type": "error",
     "traceback": [
      "An exception has occurred, use %tb to see the full traceback.\n",
      "\u001b[1;31mSystemExit\u001b[0m\n"
     ]
    },
    {
     "name": "stderr",
     "output_type": "stream",
     "text": [
      "C:\\Users\\victo\\AppData\\Local\\Packages\\PythonSoftwareFoundation.Python.3.11_qbz5n2kfra8p0\\LocalCache\\local-packages\\Python311\\site-packages\\IPython\\core\\interactiveshell.py:3534: UserWarning: To exit: use 'exit', 'quit', or Ctrl-D.\n",
      "  warn(\"To exit: use 'exit', 'quit', or Ctrl-D.\", stacklevel=1)\n"
     ]
    }
   ],
   "source": [
    "import pygame\n",
    "from sys import exit\n",
    "\n",
    "pygame.init() # Initiates Pygame\n",
    "\n",
    "width = 1600\n",
    "height = 900\n",
    "res = width, height                         # Resolution of the Screen, has to be a tuple\n",
    "\n",
    "screen = pygame.display.set_mode(res)       # Display surface (Window that players will see)\n",
    "pygame.display.set_caption('Runner')        # Title Change\n",
    "clock = pygame.time.Clock()                 # Gives us a clock object\n",
    "\n",
    "ts_width = 100\n",
    "ts_height = 200\n",
    "test_surface = pygame.Surface((ts_width,ts_height))          # Display Surface, the background, has to be unique as there is only 1 display surface\n",
    "\n",
    "test_surface.fill('Red')                    # Fill the surface with the color red\n",
    "\n",
    "while True:\n",
    "    for event in pygame.event.get():        # Gets all of the events in Pygame and the for looks through each of them\n",
    "        if event.type == pygame.QUIT:\n",
    "            pygame.quit()                   # Closes the pygame window\n",
    "            exit()\n",
    "    screen.blit(test_surface,((width - ts_width)/2,(height-ts_height)/2))         # Place the surface on the screen\n",
    "\n",
    "    pygame.display.update()                 # Updates the display surface.\n",
    "    clock.tick(60)                          # Tells Pygame that the while Loop should not run faster than 60 fps\n",
    "    "
   ]
  },
  {
   "cell_type": "code",
   "execution_count": 83,
   "metadata": {},
   "outputs": [
    {
     "ename": "SystemExit",
     "evalue": "",
     "output_type": "error",
     "traceback": [
      "An exception has occurred, use %tb to see the full traceback.\n",
      "\u001b[1;31mSystemExit\u001b[0m\n"
     ]
    }
   ],
   "source": [
    "import pygame\n",
    "from sys import exit\n",
    "from random import randint\n",
    "\n",
    "def Display_Score():\n",
    "    curr_time = int(pygame.time.get_ticks()/1000) - start_time\n",
    "    score_surf = test_font.render(f'{curr_time}', False, (64,64,64))\n",
    "    score_rect = score_surf.get_rect(center = (400,50))\n",
    "    screen.blit(score_surf, score_rect)\n",
    "    return curr_time\n",
    "\n",
    "def obstacle_movement(obstacle_list):\n",
    "    if obstacle_list:\n",
    "        for obstacle_rect in obstacle_list:\n",
    "            obstacle_rect.x -= 5\n",
    "            screen.blit(snail_surf, obstacle_rect)\n",
    "        return obstacle_list\n",
    "    else:\n",
    "        return []\n",
    "pygame.init() # Initiates Pygame\n",
    "\n",
    "width = 800\n",
    "height = 400\n",
    "res = width, height                         # Resolution of the Screen, has to be a tuple\n",
    "\n",
    "screen = pygame.display.set_mode(res)       # Display surface (Window that players will see)\n",
    "pygame.display.set_caption('Runner')        # Title Change\n",
    "clock = pygame.time.Clock()                 # Gives us a clock object\n",
    "test_font = pygame.font.Font('graphics/font/Pixeltype.ttf', 50)     # Specify (font type, font size)\n",
    "game_active = False\n",
    "start_time = 0\n",
    "score = 0\n",
    "\n",
    "snail_surf = pygame.image.load('graphics/snail/snail1.png').convert_alpha()      # Import the Snail image from the folder\n",
    "sky_surf = pygame.image.load(\"graphics/Sky.png\").convert_alpha()                 # Import Sky image from the folder\n",
    "ground_surf = pygame.image.load(\"graphics/ground.png\").convert_alpha()           # The convert alpha converts the png to files pygame can work with better. Alpha after the convert respects the alpha values\n",
    "\n",
    "# Score Text & Surface\n",
    "score_surf = test_font.render('My game', False, (64,64,64))                      # The 3 arguments are the text information, if you want to anti-aliase it and the color\n",
    "score_rect = score_surf.get_rect(center = (width/2, 50))\n",
    "\n",
    "# Obstacles\n",
    "snail_x_pos = 600\n",
    "snail_rect = snail_surf.get_rect(bottomright = (600,300))\n",
    "\n",
    "obstactle_rect_list = []\n",
    "\n",
    "# Player Creation\n",
    "player_surf = pygame.image.load('graphics/player/player_walk_1.png').convert_alpha()\n",
    "player_rect = player_surf.get_rect(midbottom = (80, 300))\n",
    "player_grav = 0\n",
    "\n",
    "# Intro Screen\n",
    "player_stand = pygame.image.load('graphics/player/player_stand.png').convert_alpha()\n",
    "player_stand = pygame.transform.rotozoom(player_stand,0,2)\n",
    "player_stand_rect = player_stand.get_rect(center = (400,200))\n",
    "\n",
    "# Text\n",
    "gameTitle = test_font.render('Pixel Runner', False, (111,196,169))              # Name of the Title\n",
    "Title_Rect = gameTitle.get_rect(center = (400,50))\n",
    "instructions = test_font.render('Press SPACE to start', False, (111,196,169))   # Instructions\n",
    "instructions_Rect= instructions.get_rect(center = (400,350))\n",
    "\n",
    "# Timer\n",
    "obstacler_timer = pygame.USEREVENT + 1  # We add + 1 to avoid triggering an already defined event by pygame\n",
    "pygame.time.set_timer(obstacler_timer, 1400)\n",
    "\n",
    "while True:\n",
    "    for event in pygame.event.get():        # Gets all of the events in Pygame and the for looks through each of them\n",
    "        if event.type == pygame.QUIT:\n",
    "            pygame.quit()                   # Closes the pygame window\n",
    "            exit()\n",
    "        if game_active == True:\n",
    "            if event.type == pygame.KEYDOWN:\n",
    "                if event.key == pygame.K_SPACE and player_rect.bottom >= 300:\n",
    "                    player_grav = -20\n",
    "            if event.type == pygame.MOUSEBUTTONDOWN:\n",
    "                if player_rect.collidepoint(event.pos) and player_rect.bottom >= 300:\n",
    "                    player_grav = -20\n",
    "        else:\n",
    "            if event.type == pygame.KEYDOWN and event.key ==pygame.K_SPACE:\n",
    "                game_active = True\n",
    "                snail_rect.x = 800\n",
    "                start_time = int(pygame.time.get_ticks()/1000)\n",
    "        if event.type == obstacler_timer and game_active:\n",
    "            obstactle_rect_list.append(snail_surf.get_rect(bottomright = (randint(900, 1100),300)))\n",
    "    \n",
    "    if game_active:\n",
    "        screen.blit(sky_surf,(0,0))          # Place the sky surface on the screen\n",
    "        screen.blit(ground_surf,(0,300))     # Place the ground surface just where the sky ends\n",
    "        \n",
    "        score = Display_Score()\n",
    "        # Player \n",
    "        player_grav += 1\n",
    "        player_rect.y += player_grav\n",
    "        if player_rect.bottom >= 300:\n",
    "            player_rect.bottom = 300\n",
    "        screen.blit(player_surf, player_rect)\n",
    "        \n",
    "        # Obstacle Movement\n",
    "        obstacle_rect_list = obstacle_movement(obstactle_rect_list)\n",
    "        \n",
    "        # Obstacle Collition\n",
    "        if snail_rect.colliderect(player_rect):\n",
    "            game_active = False\n",
    "    else:\n",
    "        screen.fill((94,129,162))\n",
    "        screen.blit(player_stand,player_stand_rect)\n",
    "        screen.blit(gameTitle, Title_Rect)\n",
    "        if score == 0:\n",
    "            screen.blit(instructions, instructions_Rect)\n",
    "        else:\n",
    "            score_msg = test_font.render(f'Your score: {score}', False, (111,196,169))\n",
    "            score_msg_rect = score_msg.get_rect(center = (400,330))\n",
    "            screen.blit(score_msg,score_msg_rect)\n",
    "\n",
    "        \n",
    "        \n",
    "    pygame.display.update()                 # Updates the display surface.\n",
    "    clock.tick(60)                          # Tells Pygame that the while Loop should not run faster than 60 fps\n",
    "    "
   ]
  },
  {
   "cell_type": "code",
   "execution_count": 1,
   "metadata": {},
   "outputs": [
    {
     "name": "stdout",
     "output_type": "stream",
     "text": [
      "Hello World\n"
     ]
    }
   ],
   "source": [
    "print('Hello World')"
   ]
  }
 ],
 "metadata": {
  "kernelspec": {
   "display_name": "Python 3",
   "language": "python",
   "name": "python3"
  },
  "language_info": {
   "codemirror_mode": {
    "name": "ipython",
    "version": 3
   },
   "file_extension": ".py",
   "mimetype": "text/x-python",
   "name": "python",
   "nbconvert_exporter": "python",
   "pygments_lexer": "ipython3",
   "version": "3.11.7"
  }
 },
 "nbformat": 4,
 "nbformat_minor": 2
}
