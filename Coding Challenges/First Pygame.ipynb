{
 "cells": [
  {
   "cell_type": "code",
   "execution_count": 12,
   "metadata": {},
   "outputs": [
    {
     "ename": "SystemExit",
     "evalue": "",
     "output_type": "error",
     "traceback": [
      "An exception has occurred, use %tb to see the full traceback.\n",
      "\u001b[1;31mSystemExit\u001b[0m\n"
     ]
    },
    {
     "name": "stderr",
     "output_type": "stream",
     "text": [
      "C:\\Users\\victo\\AppData\\Local\\Packages\\PythonSoftwareFoundation.Python.3.11_qbz5n2kfra8p0\\LocalCache\\local-packages\\Python311\\site-packages\\IPython\\core\\interactiveshell.py:3534: UserWarning: To exit: use 'exit', 'quit', or Ctrl-D.\n",
      "  warn(\"To exit: use 'exit', 'quit', or Ctrl-D.\", stacklevel=1)\n"
     ]
    }
   ],
   "source": [
    "import pygame\n",
    "from sys import exit\n",
    "\n",
    "pygame.init() # Initiates Pygame\n",
    "\n",
    "width = 1600\n",
    "height = 900\n",
    "res = width, height                         # Resolution of the Screen, has to be a tuple\n",
    "\n",
    "screen = pygame.display.set_mode(res)       # Display surface (Window that players will see)\n",
    "pygame.display.set_caption('Runner')        # Title Change\n",
    "clock = pygame.time.Clock()                 # Gives us a clock object\n",
    "\n",
    "ts_width = 100\n",
    "ts_height = 200\n",
    "test_surface = pygame.Surface((ts_width,ts_height))          # Display Surface, the background, has to be unique as there is only 1 display surface\n",
    "\n",
    "test_surface.fill('Red')                    # Fill the surface with the color red\n",
    "\n",
    "while True:\n",
    "    for event in pygame.event.get():        # Gets all of the events in Pygame and the for looks through each of them\n",
    "        if event.type == pygame.QUIT:\n",
    "            pygame.quit()                   # Closes the pygame window\n",
    "            exit()\n",
    "    screen.blit(test_surface,((width - ts_width)/2,(height-ts_height)/2))         # Place the surface on the screen\n",
    "\n",
    "    pygame.display.update()                 # Updates the display surface.\n",
    "    clock.tick(60)                          # Tells Pygame that the while Loop should not run faster than 60 fps\n",
    "    "
   ]
  },
  {
   "cell_type": "code",
   "execution_count": 37,
   "metadata": {},
   "outputs": [
    {
     "ename": "SystemExit",
     "evalue": "",
     "output_type": "error",
     "traceback": [
      "An exception has occurred, use %tb to see the full traceback.\n",
      "\u001b[1;31mSystemExit\u001b[0m\n"
     ]
    },
    {
     "name": "stderr",
     "output_type": "stream",
     "text": [
      "C:\\Users\\victo\\AppData\\Local\\Packages\\PythonSoftwareFoundation.Python.3.11_qbz5n2kfra8p0\\LocalCache\\local-packages\\Python311\\site-packages\\IPython\\core\\interactiveshell.py:3534: UserWarning: To exit: use 'exit', 'quit', or Ctrl-D.\n",
      "  warn(\"To exit: use 'exit', 'quit', or Ctrl-D.\", stacklevel=1)\n"
     ]
    }
   ],
   "source": [
    "import pygame\n",
    "from sys import exit\n",
    "\n",
    "pygame.init() # Initiates Pygame\n",
    "\n",
    "width = 800\n",
    "height = 400\n",
    "res = width, height                         # Resolution of the Screen, has to be a tuple\n",
    "\n",
    "screen = pygame.display.set_mode(res)       # Display surface (Window that players will see)\n",
    "pygame.display.set_caption('Runner')        # Title Change\n",
    "clock = pygame.time.Clock()                 # Gives us a clock object\n",
    "test_font = pygame.font.Font('graphics/font/Pixeltype.ttf', 50)     # Specify (font type, font size)\n",
    "\n",
    "snail_surface = pygame.image.load('graphics/snail/snail1.png').convert_alpha()      # Import the Snail image from the folder\n",
    "sky_surface = pygame.image.load(\"graphics/Sky.png\").convert_alpha()                 # Import Sky image from the folder\n",
    "ground_surface = pygame.image.load(\"graphics/ground.png\").convert_alpha()           \n",
    "text_surface = test_font.render('My game', False, 'Black').convert_alpha()          # The 3 arguments are the text information, if you want to anti-aliase it and the color\n",
    "\n",
    "# The convert alpha converts the png to files pygame can work with better. Alpha after the convert respects the alpha values\n",
    "\n",
    "snail_x_pos = 600\n",
    "snail_rect = snail_surface.get_rect(midbottom = (600,300))\n",
    "\n",
    "player_surf = pygame.image.load('graphics/player/player_walk_1.png').convert_alpha()\n",
    "player_rect = player_surf.get_rect(midbottom = (80, 300))\n",
    "\n",
    "while True:\n",
    "    for event in pygame.event.get():        # Gets all of the events in Pygame and the for looks through each of them\n",
    "        if event.type == pygame.QUIT:\n",
    "            pygame.quit()                   # Closes the pygame window\n",
    "            exit()\n",
    "    screen.blit(sky_surface,(0,0))          # Place the sky surface on the screen\n",
    "    screen.blit(ground_surface,(0,300))     # Place the ground surface just where the sky ends\n",
    "    screen.blit(text_surface,(335,50))\n",
    "    screen.blit(snail_surface, snail_rect)\n",
    "    snail_rect.x -= 5\n",
    "    if snail_rect.right <= -0:\n",
    "        snail_rect.left = 800\n",
    "    screen.blit(player_surf, player_rect)\n",
    "    \n",
    "    pygame.display.update()                 # Updates the display surface.\n",
    "    clock.tick(60)                          # Tells Pygame that the while Loop should not run faster than 60 fps"
   ]
  }
 ],
 "metadata": {
  "kernelspec": {
   "display_name": "Python 3",
   "language": "python",
   "name": "python3"
  },
  "language_info": {
   "codemirror_mode": {
    "name": "ipython",
    "version": 3
   },
   "file_extension": ".py",
   "mimetype": "text/x-python",
   "name": "python",
   "nbconvert_exporter": "python",
   "pygments_lexer": "ipython3",
   "version": "3.11.7"
  }
 },
 "nbformat": 4,
 "nbformat_minor": 2
}
