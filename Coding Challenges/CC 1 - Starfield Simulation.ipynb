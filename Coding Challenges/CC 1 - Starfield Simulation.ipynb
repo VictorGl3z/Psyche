{
 "cells": [
  {
   "cell_type": "code",
   "execution_count": 3,
   "metadata": {},
   "outputs": [
    {
     "name": "stdout",
     "output_type": "stream",
     "text": [
      "Initialized\n"
     ]
    },
    {
     "ename": "SystemExit",
     "evalue": "",
     "output_type": "error",
     "traceback": [
      "An exception has occurred, use %tb to see the full traceback.\n",
      "\u001b[1;31mSystemExit\u001b[0m\n"
     ]
    }
   ],
   "source": [
    "import pygame\n",
    "import random\n",
    "from sys import exit\n",
    "\n",
    "pygame.init()\n",
    "print('Initialized')\n",
    "\n",
    "\n",
    "res = reswid, reshei = (800,400)\n",
    "\n",
    "screen = pygame.display.set_mode(res)\n",
    "pygame.display.set_caption('Starfield Simulation')\n",
    "clock = pygame.time.Clock()\n",
    "count = 0\n",
    "\n",
    "\n",
    "while True:\n",
    "    for event in pygame.event.get():\n",
    "        if event.type == pygame.QUIT:\n",
    "            pygame.quit()\n",
    "            exit()\n",
    "\n",
    "    if count < 100:\n",
    "        coord = randx, randy = random.uniform(0,800), random.uniform(0,400)\n",
    "        pygame.draw.circle(screen,'white',coord, 2)\n",
    "        count += 1\n",
    "    \n",
    "    pygame.display.update()\n",
    "    clock.tick(60)"
   ]
  }
 ],
 "metadata": {
  "kernelspec": {
   "display_name": "Python 3",
   "language": "python",
   "name": "python3"
  },
  "language_info": {
   "codemirror_mode": {
    "name": "ipython",
    "version": 3
   },
   "file_extension": ".py",
   "mimetype": "text/x-python",
   "name": "python",
   "nbconvert_exporter": "python",
   "pygments_lexer": "ipython3",
   "version": "3.11.7"
  }
 },
 "nbformat": 4,
 "nbformat_minor": 2
}
