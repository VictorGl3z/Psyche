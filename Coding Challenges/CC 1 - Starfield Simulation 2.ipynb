{
 "cells": [
  {
   "cell_type": "code",
   "execution_count": 7,
   "metadata": {},
   "outputs": [],
   "source": [
    "# New comment\n",
    "\n",
    "import pygame as pg\n",
    "import random\n",
    "import math\n",
    "\n",
    "vec2, vec3 = pg.math.Vector2, pg.math.Vector3\n",
    "\n",
    "RES = width, height = 1600, 900\n",
    "NUM_STARS = 100\n",
    "CENTER = vec2(width//2, height // 2)\n",
    "COLORS = 'red green blue orange purple cyan'.split()\n",
    "Z_DISTANCE = 40\n",
    "\n",
    "\n",
    "\n",
    "class Star:\n",
    "    def __init__(self, app):\n",
    "        self.screen = app.screen\n",
    "        self.pos3d = self.get_pos3d()\n",
    "        self.vel = random.uniform(0.05, 0.25)\n",
    "        self.color = random.choice(COLORS)\n",
    "        self.screen_pos = vec2(0,0)\n",
    "        self.size = 10\n",
    "        \n",
    "    def get_pos3d(self):\n",
    "        angle = random.uniform(0, 2 * math.pi)\n",
    "        radius = random.randrange(height)\n",
    "        x = radius * math.sin(angle)\n",
    "        y = radius * math.cos(angle)\n",
    "        return vec3(x,y,Z_DISTANCE)\n",
    "    \n",
    "    def update(self):\n",
    "        self.pos3d.z -= self.vel\n",
    "        self.pos3d = self.get_pos3d() if self.pos3d.z < 1 else self.pos3d\n",
    "        \n",
    "        self.screen_pos = vec2(self.pos3d.x, self.pos3d.y) / self.pos3d.z + CENTER\n",
    "        \n",
    "    def draw(self):\n",
    "        pg.draw.rect(self.screen, self.color, (*self.screen_pos, self.size, self.size))\n",
    "\n",
    "class Starfield:\n",
    "    def __init__(self, app):\n",
    "        self.stars = [Star(app) for i in range(NUM_STARS)]\n",
    "        \n",
    "    def run(self):\n",
    "        [star.update() for star in self.stars]\n",
    "        [star.draw() for star in self.stars]\n",
    "\n",
    "class App:\n",
    "    def __init__(self):\n",
    "        self.screen = pg.display.set_mode(RES)\n",
    "        self.clock = pg.time.Clock()\n",
    "        self.starfield = Starfield(self)\n",
    "        \n",
    "    def run(self):\n",
    "        while True:\n",
    "            self.screen.fill('black')\n",
    "            self.starfield.run()\n",
    "            \n",
    "            pg.display.flip()\n",
    "            [exit() for i in pg.event.get() if i.type == pg.QUIT]\n",
    "            self.clock.tick(60)"
   ]
  },
  {
   "cell_type": "code",
   "execution_count": 8,
   "metadata": {},
   "outputs": [
    {
     "ename": "KeyboardInterrupt",
     "evalue": "",
     "output_type": "error",
     "traceback": [
      "\u001b[1;31m---------------------------------------------------------------------------\u001b[0m",
      "\u001b[1;31mKeyboardInterrupt\u001b[0m                         Traceback (most recent call last)",
      "Cell \u001b[1;32mIn[8], line 3\u001b[0m\n\u001b[0;32m      1\u001b[0m \u001b[38;5;28;01mif\u001b[39;00m \u001b[38;5;18m__name__\u001b[39m \u001b[38;5;241m==\u001b[39m \u001b[38;5;124m'\u001b[39m\u001b[38;5;124m__main__\u001b[39m\u001b[38;5;124m'\u001b[39m:\n\u001b[0;32m      2\u001b[0m     app \u001b[38;5;241m=\u001b[39m App()\n\u001b[1;32m----> 3\u001b[0m     \u001b[43mapp\u001b[49m\u001b[38;5;241;43m.\u001b[39;49m\u001b[43mrun\u001b[49m\u001b[43m(\u001b[49m\u001b[43m)\u001b[49m\n",
      "Cell \u001b[1;32mIn[7], line 61\u001b[0m, in \u001b[0;36mApp.run\u001b[1;34m(self)\u001b[0m\n\u001b[0;32m     59\u001b[0m pg\u001b[38;5;241m.\u001b[39mdisplay\u001b[38;5;241m.\u001b[39mflip()\n\u001b[0;32m     60\u001b[0m [exit() \u001b[38;5;28;01mfor\u001b[39;00m i \u001b[38;5;129;01min\u001b[39;00m pg\u001b[38;5;241m.\u001b[39mevent\u001b[38;5;241m.\u001b[39mget() \u001b[38;5;28;01mif\u001b[39;00m i\u001b[38;5;241m.\u001b[39mtype \u001b[38;5;241m==\u001b[39m pg\u001b[38;5;241m.\u001b[39mQUIT]\n\u001b[1;32m---> 61\u001b[0m \u001b[38;5;28;43mself\u001b[39;49m\u001b[38;5;241;43m.\u001b[39;49m\u001b[43mclock\u001b[49m\u001b[38;5;241;43m.\u001b[39;49m\u001b[43mtick\u001b[49m\u001b[43m(\u001b[49m\u001b[38;5;241;43m60\u001b[39;49m\u001b[43m)\u001b[49m\n",
      "\u001b[1;31mKeyboardInterrupt\u001b[0m: "
     ]
    },
    {
     "ename": "",
     "evalue": "",
     "output_type": "error",
     "traceback": [
      "\u001b[1;31mThe Kernel crashed while executing code in the the current cell or a previous cell. Please review the code in the cell(s) to identify a possible cause of the failure. Click <a href='https://aka.ms/vscodeJupyterKernelCrash'>here</a> for more info. View Jupyter <a href='command:jupyter.viewOutput'>log</a> for further details."
     ]
    }
   ],
   "source": [
    "if __name__ == '__main__':\n",
    "    app = App()\n",
    "    app.run()\n",
    "    "
   ]
  }
 ],
 "metadata": {
  "kernelspec": {
   "display_name": "Python 3",
   "language": "python",
   "name": "python3"
  },
  "language_info": {
   "codemirror_mode": {
    "name": "ipython",
    "version": 3
   },
   "file_extension": ".py",
   "mimetype": "text/x-python",
   "name": "python",
   "nbconvert_exporter": "python",
   "pygments_lexer": "ipython3",
   "version": "3.11.7"
  }
 },
 "nbformat": 4,
 "nbformat_minor": 2
}
